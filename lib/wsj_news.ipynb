{
 "cells": [
  {
   "cell_type": "code",
   "execution_count": 158,
   "metadata": {
    "collapsed": false
   },
   "outputs": [],
   "source": [
    "from selenium import webdriver\n",
    "from selenium.common.exceptions import NoSuchElementException\n",
    "from selenium.webdriver.support.ui import WebDriverWait\n",
    "import os"
   ]
  },
  {
   "cell_type": "code",
   "execution_count": 159,
   "metadata": {
    "collapsed": false
   },
   "outputs": [],
   "source": [
    "extractItems = []"
   ]
  },
  {
   "cell_type": "code",
   "execution_count": 160,
   "metadata": {
    "collapsed": true
   },
   "outputs": [],
   "source": [
    "chromedriver = \"/Users/yuxin/Downloads/chromedriver\"\n",
    "os.environ[\"webdriver.chrome.driver\"] = chromedriver\n",
    "browser = webdriver.Chrome(chromedriver)\n",
    "browser.get('http://markets.wsj.com/?mod=Homecle_MDW_MDC')"
   ]
  },
  {
   "cell_type": "code",
   "execution_count": 161,
   "metadata": {
    "collapsed": false
   },
   "outputs": [],
   "source": [
    "login = browser.find_element_by_link_text(\"Log In\").click()"
   ]
  },
  {
   "cell_type": "code",
   "execution_count": 162,
   "metadata": {
    "collapsed": false
   },
   "outputs": [],
   "source": [
    "loginID = browser.find_element_by_id(\"username\").send_keys('yzhu73@gmail.com')             # Input username\n",
    "loginPass = browser.find_element_by_id(\"password\").send_keys('abc3337')     # Input password\n",
    "loginReady = browser.find_element_by_class_name(\"sign-in\")\n",
    "loginReady.submit()"
   ]
  },
  {
   "cell_type": "code",
   "execution_count": 163,
   "metadata": {
    "collapsed": false
   },
   "outputs": [],
   "source": [
    "search_box = browser.find_element_by_id(\"globalHatSearchInput\")\n",
    "search_box.send_keys('Tesla')"
   ]
  },
  {
   "cell_type": "code",
   "execution_count": 164,
   "metadata": {
    "collapsed": true
   },
   "outputs": [],
   "source": [
    "search_req = browser.find_element_by_css_selector('.button-search').click()\n",
    "toggleMenu = browser.find_element_by_link_text(\"ADVANCED SEARCH\")\n",
    "toggleMenu.click()"
   ]
  },
  {
   "cell_type": "code",
   "execution_count": 165,
   "metadata": {
    "collapsed": false
   },
   "outputs": [],
   "source": [
    "menuOptions = browser.find_element_by_class_name('adv-date')\n",
    "menuOptions.send_keys('2016/05/01')\n",
    "menuOptions2 = browser.find_element_by_name('sto')\n",
    "menuOptions2.send_keys('2016/05/06')"
   ]
  },
  {
   "cell_type": "code",
   "execution_count": 166,
   "metadata": {
    "collapsed": true
   },
   "outputs": [],
   "source": [
    "search_info = browser.find_element_by_class_name('metadata')"
   ]
  },
  {
   "cell_type": "code",
   "execution_count": 167,
   "metadata": {
    "collapsed": true
   },
   "outputs": [],
   "source": [
    "search_info.send_keys('Tesla')"
   ]
  },
  {
   "cell_type": "code",
   "execution_count": 168,
   "metadata": {
    "collapsed": true
   },
   "outputs": [],
   "source": [
    "searchArchive = browser.find_element_by_class_name('keywordSearchBar')"
   ]
  },
  {
   "cell_type": "code",
   "execution_count": 171,
   "metadata": {
    "collapsed": false
   },
   "outputs": [],
   "source": [
    "searchArchive.find_element_by_class_name('searchButton').click()"
   ]
  },
  {
   "cell_type": "code",
   "execution_count": 183,
   "metadata": {
    "collapsed": false
   },
   "outputs": [],
   "source": [
    "def extractElements(url):\n",
    "    second_browser = webdriver.Chrome(chromedriver)\n",
    "\n",
    "    for extracted_url in getPageUrl(elementLinks):\n",
    "        second_browser.get(extracted_url)\n",
    "        \n",
    "        try:\n",
    "            parent = extractItems.append(second_browser.find_element_by_xpath('//article[@id=\"article-contents\"]').text)\n",
    "        except NoSuchElementException:\n",
    "            try:\n",
    "                parent = extractItems.append(second_browser.find_element_by_xpath('//div[@id=\"article_sector\"]').text)\n",
    "            except NoSuchElementException:\n",
    "                try:\n",
    "                    parent = extractItems.append(second_browser.find_element_by_xpath('//article[@id=\"video-info\"]').text)\n",
    "                except NoSuchElementException:\n",
    "                    try:\n",
    "                        parent = extractItems.append(second_browser.find_element_by_xpath('//div[@class=\"contentwide\"]').text)\n",
    "                    except NoSuchElementException:\n",
    "                        pass\n",
    "    \n",
    "    second_browser.close()\n"
   ]
  },
  {
   "cell_type": "code",
   "execution_count": 182,
   "metadata": {
    "collapsed": false
   },
   "outputs": [
    {
     "data": {
      "text/plain": [
       "[\"MARKETS COMMODITIES\\nTesla Shakes Up Market for Lithium, Other Metals\\n‘In order to produce half a million cars a year…we would basically need to absorb the entire world’s lithium-ion production,’ Elon Musk said in March\\nBy Stephanie Yang and Biman Mukherji\\nUpdated May 5, 2016 7:55 p.m. ET\\nTesla Motors Inc., shaking up the auto industry with its battery-operated cars, is now reshaping metals markets, too.\\nTesla and other electric-vehicle makers are swallowing up lithium, a lightweight material that some call “white petroleum” for its use in lithium-ion batteries that power electric cars.\\nLithium carbonate prices rose 47% in the first quarter compared with the average price in 2015, according to the most recent...\\nRELATED VIDEO\\nTesla's Elon Musk Debuts Model 3\\nTesla's Elon Musk Debuts Model 3\\nTesla CEO Elon Musk took the stage in front of a hooting crowd of fans and clients Thursday night to reveal the Model 3. The company said it secured about 135,000 reservations during the first day of ordering. Photo: Tesla\\nTO READ THE FULL STORY\\nSUBSCRIBE\\nSIGN IN\\nWhat to Read Next...\\nBUSINESS\\nExxon Seeks U.S. Waiver to Resume Russia Oil Venture\\nNEW YORK\\nVideo Shows New York Judge Walking Alone Before Her Death\\nAFRICA NEWS\\nZambian Opposition Leader Charged With Treason\\nFITNESS\\nA Fitness Empire Quietly Rises on YouTube\\nA-HED\\nWhat’s the Latest Buzz in Electric Cars? Speed, Baby!\\nIndependent of The Wall Street Journal newsroom\\nPERSONAL FINANCE\\nThis is why people are declining your wedding invitations\\n Independent of The Wall Street Journal newsroom\\nBillionaire Businessman Picks Up $77 Million Palm Beach Mansion\\n  Recommended Videos\\nThe Most American Car Isn't American\\nCorporate Hugging: A Field Guide\\nVancouver's Top Futuristic Film Shoot Locations\\nIrish Families of Prominence Revisited in New Book\\nBy 2020, 50% of workforce will be remote. Here's how.\\nMost Popular Articles\\nFox News Is Preparing to Cut Ties With Bill O’Reilly\\nIn Las Vegas, Drinks Flow a Little Less Freely\\nExxon Seeks U.S. Waiver to Resume Russia Oil Venture\\n‘Duped by Trump’: U.S. Taunted Over Aircraft Carrier Tale\\nCarrier Threat Wasn’t All It Seemed\",\n",
       " \"MONEYBEAT\\nHow Tesla Is Shaking Up Metals Markets\\nLithium and copper are among the metals that may benefit from an increase in electric vehicle production\\nBy STEPHANIE YANG\\nMay 5, 2016 10:52 am ET\\nis starting to shake up the auto industry with its sleek electric cars. Now some say it’s only a matter of time until it helps reshape the metal industry, too. As demand for Tesla’s cars grows, some market participants are starting to anticipate long-term changes in the consumption of metals within the auto industry. The […]\\nTo Read the Full Story, Subscribe or Sign In\\nPREVIOUS\\nDon't Underestimate the Power of an Oil Market Rally\\nNEXT\\nMetLife Joins AIG In Scaling Way Back on Hedge Funds\\nWhat To Read Next...\\nTECHNOLOGY\\nCybersecurity Startup Tanium Exposed California Hospital’s Network in Demos Without Permission\\nNEW YORK\\nBrooklyn Buyers Pay Top Dollar For Old-World Townhouses With Modern Flair\\nWORLD NEWS\\n‘Duped by Trump’: U.S. Taunted Over Carl Vinson Aircraft Carrier Tale\\nU.S. NEWS\\nFormer Patriots Tight End Aaron Hernandez Found Hanged in Prison Cell\\nA-HED\\nIn Las Vegas, Drinks Flow a Little Less Freely\\nIndependent of The Wall Street Journal newsroom\\nPERSONAL FINANCE\\nAmericans get an ‘F’ on income tax quiz\\n Independent of The Wall Street Journal newsroom\\nNBC News Anchor Lester Holt Selling Manhattan Condo\\n  Recommended Videos\\n5 Companies to Watch This Earnings Season\\nFilm Clip: 'Life Of Us'\\nUndervalued Ford Stock, With 5% Yield, Drives Higher\\nFacebook Launches New Augmented-Reality Technology\\nBy 2020, 50% of workforce will be remote. Here's how.\\nMost Popular Articles\\nFox News Is Preparing to Cut Ties With Bill O’Reilly\\nIn Las Vegas, Drinks Flow a Little Less Freely\\nExxon Seeks U.S. Waiver to Resume Russia Oil Venture\\n‘Duped by Trump’: U.S. Taunted Over Aircraft Carrier Tale\\nCarrier Threat Wasn’t All It Seemed\",\n",
       " \"BUSINESS AUTOS & TRANSPORTATION AUTOS\\nTesla’s Losses Widen on Lower-Than-Expected Deliveries\\nVice presidents for production and manufacturing leave, as auto maker looks to increase output\\nBy Mike Ramsey\\nUpdated May 4, 2016 6:48 p.m. ET\\nTesla Motors Inc. said on Wednesday it would ramp up annual production to a half-million vehicles two years earlier than planned, but the electric-car maker will be doing so without two top manufacturing executives.\\nThe Palo Alto, Calif., company nearly doubled its first-quarter loss compared with the same period a year ago, even as sales of its pricey sedan and sport-utility vehicle continued to climb. Tesla abandoned a plan to...\\nRELATED VIDEO\\nModel X Quality Issues a Challenge for Tesla\\nTesla Motors is battling quality issues with its new high-end Model X SUV, raising questions about the auto maker's ability to ramp up and deliver on its next generation of electric cars like the more affordable Model 3. WSJ's Lee Hawkins explains. Photo: Tesla\\nTO READ THE FULL STORY\\nSUBSCRIBE\\nSIGN IN\\nWhat to Read Next...\\nHISTORICALLY SPEAKING\\nThe Pleasures and Perils of the Garden\\nNEW YORK\\nVideo Shows New York Judge Walking Alone Before Her Death\\nESSAY\\nDon’t Hate Your Husband: Advice for New Mothers\\nMEDIA & MARKETING\\nFox Is Preparing to Cut Ties With Bill O’Reilly\\nLETTERS\\nDebt Bomb Has Shorter Fuse Than Many Citizens Think\\nIndependent of The Wall Street Journal newsroom\\nINVESTING\\nGet ready for a Trump trade reboot — here’s what could set it off\\n Independent of The Wall Street Journal newsroom\\nMen’s Underwear Designer Andrew Christian Lists L.A. and Key West Homes\\n  Recommended Videos\\nThe Most American Car Isn't American\\nCorporate Hugging: A Field Guide\\nVancouver's Top Futuristic Film Shoot Locations\\nIrish Families of Prominence Revisited in New Book\\nBy 2020, 50% of workforce will be remote. Here's how.\\nMost Popular Articles\\nFox News Is Preparing to Cut Ties With Bill O’Reilly\\nIn Las Vegas, Drinks Flow a Little Less Freely\\nExxon Seeks U.S. Waiver to Resume Russia Oil Venture\\n‘Duped by Trump’: U.S. Taunted Over Aircraft Carrier Tale\\nCarrier Threat Wasn’t All It Seemed\",\n",
       " \"MARKETS HEARD ON THE STREET\\nTesla Earnings: It’s All About the Dream\\nCompany's earnings came with more ambitious goals, but investors have to stay focused on the fundamentals\\nBy Charley Grant\\nMay 4, 2016 6:16 p.m. ET\\nEnthusiasm for the Model 3 mass-market car has powered Tesla Motors to lofty heights. But first-quarter results should remind investors that the future isn’t too far away.\\nTesla reported revenue of $1.15 billion and an adjusted loss per share of 57 cents Wednesday. That narrowly topped consensus expectations.\\nBut, expectations for the...\\nTO READ THE FULL STORY\\nSUBSCRIBE\\nSIGN IN\\nWhat to Read Next...\\nFINANCIAL REGULATION\\nBank Regulator Rips Its Own Supervision of Wells Fargo Sales Practices\\nESSAY\\nDon’t Hate Your Husband: Advice for New Mothers\\nLETTERS\\nNo Pre-emptive Court Veto but Judicial Review\\nVIDEO\\nDocumentary Clip: 'Citizen Jane: Battle for the City'\\nAFRICA NEWS\\nZambian Opposition Leader Charged With Treason\\nIndependent of The Wall Street Journal newsroom\\nECONOMY & POLITICS\\nU.S. aircraft carrier supposedly sent as warning to North Korea sailed in opposite direction\\n Independent of The Wall Street Journal newsroom\\nMen’s Underwear Designer Andrew Christian Lists L.A. and Key West Homes\\n  Recommended Videos\\nThe Most American Car Isn't American\\nCorporate Hugging: A Field Guide\\nVancouver's Top Futuristic Film Shoot Locations\\nIrish Families of Prominence Revisited in New Book\\nBy 2020, 50% of workforce will be remote. Here's how.\\nMost Popular Articles\\nFox News Is Preparing to Cut Ties With Bill O’Reilly\\nIn Las Vegas, Drinks Flow a Little Less Freely\\nExxon Seeks U.S. Waiver to Resume Russia Oil Venture\\n‘Duped by Trump’: U.S. Taunted Over Aircraft Carrier Tale\\nCarrier Threat Wasn’t All It Seemed\",\n",
       " \"MONEYBEAT\\nOptions Market Betting on Big Move for Tesla’s Stock\\nWith Tesla earnings looming, traders are betting the shares are about to get a charge\\nBy SAUMYA VAISHAMPAYAN\\nMay 4, 2016 10:50 am ET\\nThe options market is betting on a big move in shares after the company reports first-quarter earnings. The electric-car company is scheduled to post results after the market closes Wednesday. Options traders are betting on a move of 8.7% in either direction through Friday, based on the price of an options strategy called a straddle, […]\\nTo Read the Full Story, Subscribe or Sign In\\nPREVIOUS\\nWhy Calpers Wants You to Use the Indiana Toll Road\\nNEXT\\nBill Gross Sells Some Prized Stamps, Donates $4.5 Million to Charity\\nRecommended Videos\\nThe Most American Car Isn't American\\nCorporate Hugging: A Field Guide\\nVancouver's Top Futuristic Film Shoot Locations\\nIrish Families of Prominence Revisited in New Book\\nBy 2020, 50% of workforce will be remote. Here's how.\\nMost Popular Articles\\nFox News Is Preparing to Cut Ties With Bill O’Reilly\\nIn Las Vegas, Drinks Flow a Little Less Freely\\nExxon Seeks U.S. Waiver to Resume Russia Oil Venture\\n‘Duped by Trump’: U.S. Taunted Over Aircraft Carrier Tale\\nCarrier Threat Wasn’t All It Seemed\",\n",
       " \"MARKETS STOCKS AHEAD OF THE TAPE\\nTesla Is Heading Straight for a Speed Trap\\nOn the supposed long-term road to success, Tesla bulls face a harsh short-term reality, likely evident in Wednesday’s quarterly results\\nBy Steven Russolillo\\nMay 3, 2016 2:04 p.m. ET\\nFundamentals are so overrated.\\nFor three years and counting, investor enthusiasm for Tesla Motors Inc. has repeatedly overshadowed, well, everything. Profits? Mostly irrelevant. Dwindling cash levels? No problem. Production issues? They won’t happen again, of course.\\nTesla’s stock has surged more than 500% since 2013 behind a visionary,...\\nRELATED VIDEO\\nTesla's Elon Musk Debuts Model 3\\nTesla's Elon Musk Debuts Model 3\\nTesla CEO Elon Musk took the stage in front of a hooting crowd of fans and clients Thursday night to reveal the Model 3. The company said it secured about 135,000 reservations during the first day of ordering. Photo: Tesla\\nTO READ THE FULL STORY\\nSUBSCRIBE\\nSIGN IN\\nRecommended Videos\\n5 Companies to Watch This Earnings Season\\nFilm Clip: 'Life Of Us'\\nUndervalued Ford Stock, With 5% Yield, Drives Higher\\nFacebook Launches New Augmented-Reality Technology\\nBy 2020, 50% of workforce will be remote. Here's how.\\nMost Popular Articles\\nFox News Is Preparing to Cut Ties With Bill O’Reilly\\nIn Las Vegas, Drinks Flow a Little Less Freely\\nExxon Seeks U.S. Waiver to Resume Russia Oil Venture\\n‘Duped by Trump’: U.S. Taunted Over Aircraft Carrier Tale\\nCarrier Threat Wasn’t All It Seemed\",\n",
       " \"BUSINESS\\nTesla Earnings: What to Watch\\nSilicon Valley electric-car maker’s core business in view after Model 3 rush\\nBy Mike Ramsey\\nMay 2, 2016 11:14 a.m. ET\\nTesla Motors Inc.’s first quarter results will be released after the bell on May 4.\\nEARNINGS FORECAST: Tesla is expected to post an operating loss of 58 cents a share, according to analysts polled by Thomson Reuters, compared with a loss of 36 cents a share reported in the first quarter of 2015. Tesla’s first quarter deliveries were 1,180 lower than expected because of problems launching the Model X and sales of the Model S didn’t keep pace with the fourth quarter of 2015. Tesla’s losses have been deepening, and the...\\nTO READ THE FULL STORY\\nSUBSCRIBE\\nSIGN IN\\nWhat to Read Next...\\nTECHNOLOGY\\nTesla’s Elon Musk Sets Sights on Australia—Via Twitter\\nCHINA CIRCUIT\\nWhy China Can’t Get Enough of Elon Musk\\nMARKETS MAIN\\nFormer Harvard Money Whiz Jack Meyer Tries to Regain His Edge\\nA-HED\\nElon Musk Has an Awkward Problem at Tesla: Employee Parking\\nTECHNOLOGY\\nElon Musk Launches Neuralink to Connect Brains With Computers\\nIndependent of The Wall Street Journal newsroom\\nPERSONAL FINANCE\\nThis is why Dutch kids are much happier than American children\\n Independent of The Wall Street Journal newsroom\\nBritish Castle with Moat Selling For $2.23 Million\\n  Recommended Videos\\nThe Most American Car Isn't American\\nCorporate Hugging: A Field Guide\\nVancouver's Top Futuristic Film Shoot Locations\\nIrish Families of Prominence Revisited in New Book\\nBy 2020, 50% of workforce will be remote. Here's how.\\nMost Popular Articles\\nFox News Is Preparing to Cut Ties With Bill O’Reilly\\nIn Las Vegas, Drinks Flow a Little Less Freely\\nExxon Seeks U.S. Waiver to Resume Russia Oil Venture\\n‘Duped by Trump’: U.S. Taunted Over Aircraft Carrier Tale\\nCarrier Threat Wasn’t All It Seemed\"]"
      ]
     },
     "execution_count": 182,
     "metadata": {},
     "output_type": "execute_result"
    }
   ],
   "source": []
  },
  {
   "cell_type": "code",
   "execution_count": 179,
   "metadata": {
    "collapsed": true
   },
   "outputs": [],
   "source": [
    "def getPageUrl(elementLinks):\n",
    "    extractLinks = []\n",
    "    for element in elementLinks:\n",
    "        links = element.get_attribute('href')\n",
    "        extractLinks.append(links)\n",
    "    return(extractLinks)"
   ]
  },
  {
   "cell_type": "code",
   "execution_count": 180,
   "metadata": {
    "collapsed": false
   },
   "outputs": [],
   "source": [
    "while True:\n",
    "    try:\n",
    "        elementLinks = browser.find_elements_by_xpath('//h3[@class=\"headline\"]/a')\n",
    "        extractElements(getPageUrl(elementLinks))\n",
    "        element = browser.find_element_by_link_text('Next')\n",
    "        element.click()\n",
    "    except NoSuchElementException:\n",
    "        break\n",
    "        second_browser.close()\n",
    "        browser.close()"
   ]
  },
  {
   "cell_type": "code",
   "execution_count": 174,
   "metadata": {
    "collapsed": false
   },
   "outputs": [
    {
     "ename": "NoSuchElementException",
     "evalue": "Message: no such element: Unable to locate element: {\"method\":\"class name\",\"selector\":\"login\"}\n  (Session info: chrome=58.0.3029.81)\n  (Driver info: chromedriver=2.29.461585 (0be2cd95f834e9ee7c46bcc7cf405b483f5ae83b),platform=Mac OS X 10.12.4 x86_64)\n",
     "output_type": "error",
     "traceback": [
      "\u001b[0;31m---------------------------------------------------------------------------\u001b[0m",
      "\u001b[0;31mNoSuchElementException\u001b[0m                    Traceback (most recent call last)",
      "\u001b[0;32m<ipython-input-174-2494a9eaa7ef>\u001b[0m in \u001b[0;36m<module>\u001b[0;34m()\u001b[0m\n\u001b[0;32m----> 1\u001b[0;31m \u001b[0mextractElements\u001b[0m\u001b[0;34m(\u001b[0m\u001b[0mgetPageUrl\u001b[0m\u001b[0;34m(\u001b[0m\u001b[0melementLinks\u001b[0m\u001b[0;34m)\u001b[0m\u001b[0;34m)\u001b[0m\u001b[0;34m\u001b[0m\u001b[0m\n\u001b[0m",
      "\u001b[0;32m<ipython-input-155-9f9d8ebcd5ad>\u001b[0m in \u001b[0;36mextractElements\u001b[0;34m(url)\u001b[0m\n\u001b[1;32m      4\u001b[0m     \u001b[0;32mfor\u001b[0m \u001b[0mextracted_url\u001b[0m \u001b[0;32min\u001b[0m \u001b[0mgetPageUrl\u001b[0m\u001b[0;34m(\u001b[0m\u001b[0melementLinks\u001b[0m\u001b[0;34m)\u001b[0m\u001b[0;34m:\u001b[0m\u001b[0;34m\u001b[0m\u001b[0m\n\u001b[1;32m      5\u001b[0m         \u001b[0msecond_browser\u001b[0m\u001b[0;34m.\u001b[0m\u001b[0mget\u001b[0m\u001b[0;34m(\u001b[0m\u001b[0mextracted_url\u001b[0m\u001b[0;34m)\u001b[0m\u001b[0;34m\u001b[0m\u001b[0m\n\u001b[0;32m----> 6\u001b[0;31m         \u001b[0mlogin\u001b[0m \u001b[0;34m=\u001b[0m \u001b[0msecond_browser\u001b[0m\u001b[0;34m.\u001b[0m\u001b[0mfind_element_by_class_name\u001b[0m\u001b[0;34m(\u001b[0m\u001b[0;34m\"login\"\u001b[0m\u001b[0;34m)\u001b[0m\u001b[0;34m.\u001b[0m\u001b[0mclick\u001b[0m\u001b[0;34m(\u001b[0m\u001b[0;34m)\u001b[0m\u001b[0;34m\u001b[0m\u001b[0m\n\u001b[0m\u001b[1;32m      7\u001b[0m         \u001b[0mloginID\u001b[0m \u001b[0;34m=\u001b[0m \u001b[0msecond_browser\u001b[0m\u001b[0;34m.\u001b[0m\u001b[0mfind_element_by_id\u001b[0m\u001b[0;34m(\u001b[0m\u001b[0;34m\"username\"\u001b[0m\u001b[0;34m)\u001b[0m\u001b[0;34m.\u001b[0m\u001b[0msend_keys\u001b[0m\u001b[0;34m(\u001b[0m\u001b[0;34m'yzhu73@gmail.com'\u001b[0m\u001b[0;34m)\u001b[0m             \u001b[0;31m# Input username\u001b[0m\u001b[0;34m\u001b[0m\u001b[0m\n\u001b[1;32m      8\u001b[0m         \u001b[0mloginPass\u001b[0m \u001b[0;34m=\u001b[0m \u001b[0msecond_browser\u001b[0m\u001b[0;34m.\u001b[0m\u001b[0mfind_element_by_id\u001b[0m\u001b[0;34m(\u001b[0m\u001b[0;34m\"password\"\u001b[0m\u001b[0;34m)\u001b[0m\u001b[0;34m.\u001b[0m\u001b[0msend_keys\u001b[0m\u001b[0;34m(\u001b[0m\u001b[0;34m'abc3337'\u001b[0m\u001b[0;34m)\u001b[0m     \u001b[0;31m# Input password\u001b[0m\u001b[0;34m\u001b[0m\u001b[0m\n",
      "\u001b[0;32m/anaconda/lib/python3.6/site-packages/selenium/webdriver/remote/webdriver.py\u001b[0m in \u001b[0;36mfind_element_by_class_name\u001b[0;34m(self, name)\u001b[0m\n\u001b[1;32m    424\u001b[0m             \u001b[0mdriver\u001b[0m\u001b[0;34m.\u001b[0m\u001b[0mfind_element_by_class_name\u001b[0m\u001b[0;34m(\u001b[0m\u001b[0;34m'foo'\u001b[0m\u001b[0;34m)\u001b[0m\u001b[0;34m\u001b[0m\u001b[0m\n\u001b[1;32m    425\u001b[0m         \"\"\"\n\u001b[0;32m--> 426\u001b[0;31m         \u001b[0;32mreturn\u001b[0m \u001b[0mself\u001b[0m\u001b[0;34m.\u001b[0m\u001b[0mfind_element\u001b[0m\u001b[0;34m(\u001b[0m\u001b[0mby\u001b[0m\u001b[0;34m=\u001b[0m\u001b[0mBy\u001b[0m\u001b[0;34m.\u001b[0m\u001b[0mCLASS_NAME\u001b[0m\u001b[0;34m,\u001b[0m \u001b[0mvalue\u001b[0m\u001b[0;34m=\u001b[0m\u001b[0mname\u001b[0m\u001b[0;34m)\u001b[0m\u001b[0;34m\u001b[0m\u001b[0m\n\u001b[0m\u001b[1;32m    427\u001b[0m \u001b[0;34m\u001b[0m\u001b[0m\n\u001b[1;32m    428\u001b[0m     \u001b[0;32mdef\u001b[0m \u001b[0mfind_elements_by_class_name\u001b[0m\u001b[0;34m(\u001b[0m\u001b[0mself\u001b[0m\u001b[0;34m,\u001b[0m \u001b[0mname\u001b[0m\u001b[0;34m)\u001b[0m\u001b[0;34m:\u001b[0m\u001b[0;34m\u001b[0m\u001b[0m\n",
      "\u001b[0;32m/anaconda/lib/python3.6/site-packages/selenium/webdriver/remote/webdriver.py\u001b[0m in \u001b[0;36mfind_element\u001b[0;34m(self, by, value)\u001b[0m\n\u001b[1;32m    782\u001b[0m         return self.execute(Command.FIND_ELEMENT, {\n\u001b[1;32m    783\u001b[0m             \u001b[0;34m'using'\u001b[0m\u001b[0;34m:\u001b[0m \u001b[0mby\u001b[0m\u001b[0;34m,\u001b[0m\u001b[0;34m\u001b[0m\u001b[0m\n\u001b[0;32m--> 784\u001b[0;31m             'value': value})['value']\n\u001b[0m\u001b[1;32m    785\u001b[0m \u001b[0;34m\u001b[0m\u001b[0m\n\u001b[1;32m    786\u001b[0m     \u001b[0;32mdef\u001b[0m \u001b[0mfind_elements\u001b[0m\u001b[0;34m(\u001b[0m\u001b[0mself\u001b[0m\u001b[0;34m,\u001b[0m \u001b[0mby\u001b[0m\u001b[0;34m=\u001b[0m\u001b[0mBy\u001b[0m\u001b[0;34m.\u001b[0m\u001b[0mID\u001b[0m\u001b[0;34m,\u001b[0m \u001b[0mvalue\u001b[0m\u001b[0;34m=\u001b[0m\u001b[0;32mNone\u001b[0m\u001b[0;34m)\u001b[0m\u001b[0;34m:\u001b[0m\u001b[0;34m\u001b[0m\u001b[0m\n",
      "\u001b[0;32m/anaconda/lib/python3.6/site-packages/selenium/webdriver/remote/webdriver.py\u001b[0m in \u001b[0;36mexecute\u001b[0;34m(self, driver_command, params)\u001b[0m\n\u001b[1;32m    247\u001b[0m         \u001b[0mresponse\u001b[0m \u001b[0;34m=\u001b[0m \u001b[0mself\u001b[0m\u001b[0;34m.\u001b[0m\u001b[0mcommand_executor\u001b[0m\u001b[0;34m.\u001b[0m\u001b[0mexecute\u001b[0m\u001b[0;34m(\u001b[0m\u001b[0mdriver_command\u001b[0m\u001b[0;34m,\u001b[0m \u001b[0mparams\u001b[0m\u001b[0;34m)\u001b[0m\u001b[0;34m\u001b[0m\u001b[0m\n\u001b[1;32m    248\u001b[0m         \u001b[0;32mif\u001b[0m \u001b[0mresponse\u001b[0m\u001b[0;34m:\u001b[0m\u001b[0;34m\u001b[0m\u001b[0m\n\u001b[0;32m--> 249\u001b[0;31m             \u001b[0mself\u001b[0m\u001b[0;34m.\u001b[0m\u001b[0merror_handler\u001b[0m\u001b[0;34m.\u001b[0m\u001b[0mcheck_response\u001b[0m\u001b[0;34m(\u001b[0m\u001b[0mresponse\u001b[0m\u001b[0;34m)\u001b[0m\u001b[0;34m\u001b[0m\u001b[0m\n\u001b[0m\u001b[1;32m    250\u001b[0m             response['value'] = self._unwrap_value(\n\u001b[1;32m    251\u001b[0m                 response.get('value', None))\n",
      "\u001b[0;32m/anaconda/lib/python3.6/site-packages/selenium/webdriver/remote/errorhandler.py\u001b[0m in \u001b[0;36mcheck_response\u001b[0;34m(self, response)\u001b[0m\n\u001b[1;32m    191\u001b[0m         \u001b[0;32melif\u001b[0m \u001b[0mexception_class\u001b[0m \u001b[0;34m==\u001b[0m \u001b[0mUnexpectedAlertPresentException\u001b[0m \u001b[0;32mand\u001b[0m \u001b[0;34m'alert'\u001b[0m \u001b[0;32min\u001b[0m \u001b[0mvalue\u001b[0m\u001b[0;34m:\u001b[0m\u001b[0;34m\u001b[0m\u001b[0m\n\u001b[1;32m    192\u001b[0m             \u001b[0;32mraise\u001b[0m \u001b[0mexception_class\u001b[0m\u001b[0;34m(\u001b[0m\u001b[0mmessage\u001b[0m\u001b[0;34m,\u001b[0m \u001b[0mscreen\u001b[0m\u001b[0;34m,\u001b[0m \u001b[0mstacktrace\u001b[0m\u001b[0;34m,\u001b[0m \u001b[0mvalue\u001b[0m\u001b[0;34m[\u001b[0m\u001b[0;34m'alert'\u001b[0m\u001b[0;34m]\u001b[0m\u001b[0;34m.\u001b[0m\u001b[0mget\u001b[0m\u001b[0;34m(\u001b[0m\u001b[0;34m'text'\u001b[0m\u001b[0;34m)\u001b[0m\u001b[0;34m)\u001b[0m\u001b[0;34m\u001b[0m\u001b[0m\n\u001b[0;32m--> 193\u001b[0;31m         \u001b[0;32mraise\u001b[0m \u001b[0mexception_class\u001b[0m\u001b[0;34m(\u001b[0m\u001b[0mmessage\u001b[0m\u001b[0;34m,\u001b[0m \u001b[0mscreen\u001b[0m\u001b[0;34m,\u001b[0m \u001b[0mstacktrace\u001b[0m\u001b[0;34m)\u001b[0m\u001b[0;34m\u001b[0m\u001b[0m\n\u001b[0m\u001b[1;32m    194\u001b[0m \u001b[0;34m\u001b[0m\u001b[0m\n\u001b[1;32m    195\u001b[0m     \u001b[0;32mdef\u001b[0m \u001b[0m_value_or_default\u001b[0m\u001b[0;34m(\u001b[0m\u001b[0mself\u001b[0m\u001b[0;34m,\u001b[0m \u001b[0mobj\u001b[0m\u001b[0;34m,\u001b[0m \u001b[0mkey\u001b[0m\u001b[0;34m,\u001b[0m \u001b[0mdefault\u001b[0m\u001b[0;34m)\u001b[0m\u001b[0;34m:\u001b[0m\u001b[0;34m\u001b[0m\u001b[0m\n",
      "\u001b[0;31mNoSuchElementException\u001b[0m: Message: no such element: Unable to locate element: {\"method\":\"class name\",\"selector\":\"login\"}\n  (Session info: chrome=58.0.3029.81)\n  (Driver info: chromedriver=2.29.461585 (0be2cd95f834e9ee7c46bcc7cf405b483f5ae83b),platform=Mac OS X 10.12.4 x86_64)\n"
     ]
    }
   ],
   "source": []
  },
  {
   "cell_type": "code",
   "execution_count": 172,
   "metadata": {
    "collapsed": false
   },
   "outputs": [],
   "source": [
    " elementLinks = browser.find_elements_by_xpath('//h3[@class=\"headline\"]/a')"
   ]
  },
  {
   "cell_type": "code",
   "execution_count": 140,
   "metadata": {
    "collapsed": false
   },
   "outputs": [],
   "source": [
    "third_browser = webdriver.Chrome(chromedriver)\n",
    "third_browser.get('https://www.wsj.com/articles/how-lithium-defied-the-global-commodities-rout-1462450790')\n",
    "\n",
    "login = third_browser.find_element_by_class_name(\"login\").click()\n",
    "\n",
    "loginID = third_browser.find_element_by_id(\"username\").send_keys('yzhu73@gmail.com')             # Input username\n",
    "loginPass = third_browser.find_element_by_id(\"password\").send_keys('abc3337')     # Input password\n",
    "loginReady = third_browser.find_element_by_class_name(\"sign-in\")\n",
    "loginReady.submit()"
   ]
  },
  {
   "cell_type": "code",
   "execution_count": null,
   "metadata": {
    "collapsed": true
   },
   "outputs": [],
   "source": [
    "  loginID = browser.find_element_by_id(\"username\").send_keys('yzhu73@gmail.com')             # Input username\n",
    "        loginPass = browser.find_element_by_id(\"password\").send_keys('abc3337')     # Input password\n",
    "        loginReady = browser.find_element_by_class_name(\"sign-in\")\n",
    "        loginReady.submit()"
   ]
  }
 ],
 "metadata": {
  "kernelspec": {
   "display_name": "Python 3",
   "language": "python",
   "name": "python3"
  },
  "language_info": {
   "codemirror_mode": {
    "name": "ipython",
    "version": 3
   },
   "file_extension": ".py",
   "mimetype": "text/x-python",
   "name": "python",
   "nbconvert_exporter": "python",
   "pygments_lexer": "ipython3",
   "version": "3.6.0"
  }
 },
 "nbformat": 4,
 "nbformat_minor": 2
}
