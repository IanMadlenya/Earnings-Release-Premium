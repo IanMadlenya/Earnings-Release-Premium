{
 "cells": [
  {
   "cell_type": "code",
   "execution_count": 59,
   "metadata": {
    "collapsed": false
   },
   "outputs": [],
   "source": [
    "from selenium import webdriver\n",
    "from selenium.common.exceptions import NoSuchElementException\n",
    "from selenium.webdriver.support.ui import WebDriverWait\n",
    "import os"
   ]
  },
  {
   "cell_type": "code",
   "execution_count": 60,
   "metadata": {
    "collapsed": false
   },
   "outputs": [],
   "source": [
    "extractItems = []"
   ]
  },
  {
   "cell_type": "code",
   "execution_count": 61,
   "metadata": {
    "collapsed": true
   },
   "outputs": [],
   "source": [
    "chromedriver = \"/Users/yuxin/Downloads/chromedriver\"\n",
    "os.environ[\"webdriver.chrome.driver\"] = chromedriver\n",
    "browser = webdriver.Chrome(chromedriver)\n",
    "browser.get('http://markets.wsj.com/?mod=Homecle_MDW_MDC')"
   ]
  },
  {
   "cell_type": "code",
   "execution_count": 62,
   "metadata": {
    "collapsed": false
   },
   "outputs": [],
   "source": [
    "login = browser.find_element_by_link_text(\"Log In\").click()"
   ]
  },
  {
   "cell_type": "code",
   "execution_count": 63,
   "metadata": {
    "collapsed": false
   },
   "outputs": [],
   "source": [
    "# Input username\n",
    "loginID = browser.find_element_by_id(\"username\").send_keys('username') \n",
    "# Input password\n",
    "loginPass = browser.find_element_by_id(\"password\").send_keys('password')\n",
    "loginReady = browser.find_element_by_class_name(\"sign-in\")\n",
    "loginReady.submit()"
   ]
  },
  {
   "cell_type": "code",
   "execution_count": 64,
   "metadata": {
    "collapsed": false
   },
   "outputs": [],
   "source": [
    "search_box = browser.find_element_by_id(\"globalHatSearchInput\")\n",
    "search_box.send_keys('Tesla')"
   ]
  },
  {
   "cell_type": "code",
   "execution_count": 65,
   "metadata": {
    "collapsed": true
   },
   "outputs": [],
   "source": [
    "search_req = browser.find_element_by_css_selector('.button-search').click()\n",
    "toggleMenu = browser.find_element_by_link_text(\"ADVANCED SEARCH\")\n",
    "toggleMenu.click()"
   ]
  },
  {
   "cell_type": "code",
   "execution_count": 66,
   "metadata": {
    "collapsed": false
   },
   "outputs": [],
   "source": [
    "menuOptions = browser.find_element_by_class_name('adv-date')\n",
    "menuOptions.send_keys('2016/04/30')\n",
    "menuOptions2 = browser.find_element_by_name('sto')\n",
    "menuOptions2.send_keys('2016/05/06')"
   ]
  },
  {
   "cell_type": "code",
   "execution_count": 68,
   "metadata": {
    "collapsed": true
   },
   "outputs": [],
   "source": [
    "search_info = browser.find_element_by_class_name('metadata')\n",
    "\n",
    "search_info.send_keys('Tesla')\n",
    "\n",
    "searchArchive = browser.find_element_by_class_name('keywordSearchBar')\n",
    "\n",
    "searchButton = searchArchive.find_element_by_class_name('searchButton')\n",
    "searchButton.click()"
   ]
  },
  {
   "cell_type": "code",
   "execution_count": 77,
   "metadata": {
    "collapsed": false
   },
   "outputs": [],
   "source": [
    "def extractElements(url):\n",
    "    second_browser = webdriver.Chrome(chromedriver)\n",
    "\n",
    "    for extracted_url in getPageUrl(elementLinks):\n",
    "        second_browser.get(extracted_url)\n",
    "        try:\n",
    "            parent = extractItems.append(second_browser.find_element_by_xpath('//article[@id=\"article-contents\"]').text)\n",
    "        except NoSuchElementException:\n",
    "            try:\n",
    "                parent = extractItems.append(second_browser.find_element_by_xpath('//div[@id=\"article_sector\"]').text)\n",
    "            except NoSuchElementException:\n",
    "                try:\n",
    "                    parent = extractItems.append(second_browser.find_element_by_xpath('//article[@id=\"video-info\"]').text)\n",
    "                except NoSuchElementException:\n",
    "                    try:\n",
    "                        parent = extractItems.append(second_browser.find_element_by_xpath('//div[@class=\"contentwide\"]').text)\n",
    "                    except NoSuchElementException:\n",
    "                        pass\n",
    "    \n",
    "    second_browser.close()"
   ]
  },
  {
   "cell_type": "code",
   "execution_count": null,
   "metadata": {
    "collapsed": false
   },
   "outputs": [],
   "source": [
    "def getPageUrl(elementLinks):\n",
    "    extractLinks = []\n",
    "    for element in elementLinks:\n",
    "        links = element.get_attribute('href')\n",
    "        extractLinks.append(links)\n",
    "    return(extractLinks)"
   ]
  },
  {
   "cell_type": "code",
   "execution_count": 78,
   "metadata": {
    "collapsed": false
   },
   "outputs": [],
   "source": [
    "while True:\n",
    "    try:\n",
    "        elementLinks = browser.find_elements_by_xpath('//h3[@class=\"headline\"]/a')\n",
    "        extractElements(getPageUrl(elementLinks))\n",
    "        element = browser.find_element_by_link_text('Next')\n",
    "        element.click()\n",
    "    except NoSuchElementException:\n",
    "        break\n",
    "        browser.close()\n",
    "        "
   ]
  },
  {
   "cell_type": "code",
   "execution_count": 76,
   "metadata": {
    "collapsed": false
   },
   "outputs": [],
   "source": [
    "thefile = open('20160506bef.txt', 'w')\n",
    "for item in extractItems:\n",
    "  thefile.write(\"%s\\n\" % item)"
   ]
  },
  {
   "cell_type": "code",
   "execution_count": 55,
   "metadata": {
    "collapsed": false
   },
   "outputs": [],
   "source": []
  },
  {
   "cell_type": "code",
   "execution_count": null,
   "metadata": {
    "collapsed": false
   },
   "outputs": [],
   "source": []
  },
  {
   "cell_type": "code",
   "execution_count": null,
   "metadata": {
    "collapsed": false
   },
   "outputs": [],
   "source": []
  },
  {
   "cell_type": "code",
   "execution_count": null,
   "metadata": {
    "collapsed": false
   },
   "outputs": [],
   "source": []
  },
  {
   "cell_type": "code",
   "execution_count": null,
   "metadata": {
    "collapsed": true
   },
   "outputs": [],
   "source": []
  },
  {
   "cell_type": "code",
   "execution_count": null,
   "metadata": {
    "collapsed": false
   },
   "outputs": [],
   "source": []
  },
  {
   "cell_type": "code",
   "execution_count": null,
   "metadata": {
    "collapsed": false
   },
   "outputs": [],
   "source": []
  },
  {
   "cell_type": "code",
   "execution_count": null,
   "metadata": {
    "collapsed": true
   },
   "outputs": [],
   "source": []
  }
 ],
 "metadata": {
  "kernelspec": {
   "display_name": "Python 3",
   "language": "python",
   "name": "python3"
  },
  "language_info": {
   "codemirror_mode": {
    "name": "ipython",
    "version": 3
   },
   "file_extension": ".py",
   "mimetype": "text/x-python",
   "name": "python",
   "nbconvert_exporter": "python",
   "pygments_lexer": "ipython3",
   "version": "3.6.0"
  }
 },
 "nbformat": 4,
 "nbformat_minor": 2
}
